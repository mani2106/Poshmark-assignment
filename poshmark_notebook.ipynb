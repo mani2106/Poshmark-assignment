{
  "nbformat": 4,
  "nbformat_minor": 0,
  "metadata": {
    "colab": {
      "name": "poshmark_notebook.ipynb",
      "provenance": [],
      "collapsed_sections": [],
      "toc_visible": true
    },
    "kernelspec": {
      "name": "python3",
      "display_name": "Python 3"
    }
  },
  "cells": [
    {
      "cell_type": "code",
      "metadata": {
        "id": "MdOlbpYwXZoO",
        "outputId": "0315032b-fc0a-489c-a51e-37952d3455f2",
        "colab": {
          "base_uri": "https://localhost:8080/",
          "height": 89
        }
      },
      "source": [
        "!gdown --id 1KmC2QRGGtKd2DY9QntuX2e4jcpXbWn_R"
      ],
      "execution_count": null,
      "outputs": [
        {
          "output_type": "stream",
          "text": [
            "Downloading...\n",
            "From: https://drive.google.com/uc?id=1KmC2QRGGtKd2DY9QntuX2e4jcpXbWn_R\n",
            "To: /content/ds-take-home-dataset.zip\n",
            "27.3MB [00:00, 35.5MB/s]\n"
          ],
          "name": "stdout"
        }
      ]
    },
    {
      "cell_type": "code",
      "metadata": {
        "id": "ol9A4uqbXi8w",
        "outputId": "ef69e726-4d6e-46cb-ebb9-fab7a84e277b",
        "colab": {
          "base_uri": "https://localhost:8080/",
          "height": 53
        }
      },
      "source": [
        "!unzip /content/ds-take-home-dataset.zip"
      ],
      "execution_count": null,
      "outputs": [
        {
          "output_type": "stream",
          "text": [
            "Archive:  /content/ds-take-home-dataset.zip\n",
            "  inflating: ds-take-home-dataset.csv  \n"
          ],
          "name": "stdout"
        }
      ]
    },
    {
      "cell_type": "code",
      "metadata": {
        "id": "lJZkPTzn9lv2",
        "outputId": "b267a661-2aaa-47d9-9425-dce06bae6176",
        "colab": {
          "base_uri": "https://localhost:8080/",
          "height": 271
        }
      },
      "source": [
        "!pip install -U scikit-learn"
      ],
      "execution_count": null,
      "outputs": [
        {
          "output_type": "stream",
          "text": [
            "Collecting scikit-learn\n",
            "\u001b[?25l  Downloading https://files.pythonhosted.org/packages/5c/a1/273def87037a7fb010512bbc5901c31cfddfca8080bc63b42b26e3cc55b3/scikit_learn-0.23.2-cp36-cp36m-manylinux1_x86_64.whl (6.8MB)\n",
            "\u001b[K     |████████████████████████████████| 6.8MB 5.3MB/s \n",
            "\u001b[?25hCollecting threadpoolctl>=2.0.0\n",
            "  Downloading https://files.pythonhosted.org/packages/f7/12/ec3f2e203afa394a149911729357aa48affc59c20e2c1c8297a60f33f133/threadpoolctl-2.1.0-py3-none-any.whl\n",
            "Requirement already satisfied, skipping upgrade: scipy>=0.19.1 in /usr/local/lib/python3.6/dist-packages (from scikit-learn) (1.4.1)\n",
            "Requirement already satisfied, skipping upgrade: numpy>=1.13.3 in /usr/local/lib/python3.6/dist-packages (from scikit-learn) (1.18.5)\n",
            "Requirement already satisfied, skipping upgrade: joblib>=0.11 in /usr/local/lib/python3.6/dist-packages (from scikit-learn) (0.16.0)\n",
            "Installing collected packages: threadpoolctl, scikit-learn\n",
            "  Found existing installation: scikit-learn 0.22.2.post1\n",
            "    Uninstalling scikit-learn-0.22.2.post1:\n",
            "      Successfully uninstalled scikit-learn-0.22.2.post1\n",
            "Successfully installed scikit-learn-0.23.2 threadpoolctl-2.1.0\n"
          ],
          "name": "stdout"
        }
      ]
    },
    {
      "cell_type": "markdown",
      "metadata": {
        "id": "g7k-k8qFX7lJ"
      },
      "source": [
        "# Import Required Libraries"
      ]
    },
    {
      "cell_type": "code",
      "metadata": {
        "id": "wsieYVD2YA81"
      },
      "source": [
        "import json\n",
        "import pandas as pd\n",
        "import numpy as np\n",
        "\n",
        "from sklearn.model_selection import train_test_split\n",
        "from sklearn.preprocessing import RobustScaler\n",
        "\n",
        "import matplotlib.pyplot as plt\n",
        "\n",
        "from joblib import dump\n",
        "import os\n",
        "import json"
      ],
      "execution_count": null,
      "outputs": []
    },
    {
      "cell_type": "code",
      "metadata": {
        "id": "JHxmS7EM-b7C"
      },
      "source": [
        "file_path = r'/content/drive/My Drive/poshmark_files'"
      ],
      "execution_count": null,
      "outputs": []
    },
    {
      "cell_type": "code",
      "metadata": {
        "id": "6G6JSyCkC_o6"
      },
      "source": [
        "np.random.seed(0)"
      ],
      "execution_count": null,
      "outputs": []
    },
    {
      "cell_type": "markdown",
      "metadata": {
        "id": "I-414rBTahh_"
      },
      "source": [
        "# Explore the dataset"
      ]
    },
    {
      "cell_type": "code",
      "metadata": {
        "id": "Y_OzPhxoYB-y",
        "outputId": "34b98c96-a75d-4b87-f92c-666305ebfc46",
        "colab": {
          "base_uri": "https://localhost:8080/",
          "height": 204
        }
      },
      "source": [
        "data = pd.read_csv('/content/ds-take-home-dataset.zip')\n",
        "data.head()"
      ],
      "execution_count": null,
      "outputs": [
        {
          "output_type": "execute_result",
          "data": {
            "text/html": [
              "<div>\n",
              "<style scoped>\n",
              "    .dataframe tbody tr th:only-of-type {\n",
              "        vertical-align: middle;\n",
              "    }\n",
              "\n",
              "    .dataframe tbody tr th {\n",
              "        vertical-align: top;\n",
              "    }\n",
              "\n",
              "    .dataframe thead th {\n",
              "        text-align: right;\n",
              "    }\n",
              "</style>\n",
              "<table border=\"1\" class=\"dataframe\">\n",
              "  <thead>\n",
              "    <tr style=\"text-align: right;\">\n",
              "      <th></th>\n",
              "      <th>id</th>\n",
              "      <th>attr1</th>\n",
              "      <th>attr2</th>\n",
              "      <th>attr3</th>\n",
              "      <th>attr4</th>\n",
              "      <th>attr5</th>\n",
              "      <th>attr6</th>\n",
              "      <th>title</th>\n",
              "      <th>sold_price</th>\n",
              "    </tr>\n",
              "  </thead>\n",
              "  <tbody>\n",
              "    <tr>\n",
              "      <th>0</th>\n",
              "      <td>742122</td>\n",
              "      <td>4</td>\n",
              "      <td>27</td>\n",
              "      <td>149.0</td>\n",
              "      <td>3808.0</td>\n",
              "      <td>1.0</td>\n",
              "      <td>99.0</td>\n",
              "      <td>one teaspoon bandit distressed denim shorts (23)</td>\n",
              "      <td>65.0</td>\n",
              "    </tr>\n",
              "    <tr>\n",
              "      <th>1</th>\n",
              "      <td>652751</td>\n",
              "      <td>4</td>\n",
              "      <td>3</td>\n",
              "      <td>89.0</td>\n",
              "      <td>1996.0</td>\n",
              "      <td>NaN</td>\n",
              "      <td>1500.0</td>\n",
              "      <td>gucci emily mini guccissima mini red leather bag</td>\n",
              "      <td>600.0</td>\n",
              "    </tr>\n",
              "    <tr>\n",
              "      <th>2</th>\n",
              "      <td>228229</td>\n",
              "      <td>4</td>\n",
              "      <td>26</td>\n",
              "      <td>301.0</td>\n",
              "      <td>5194.0</td>\n",
              "      <td>NaN</td>\n",
              "      <td>89.0</td>\n",
              "      <td>steve madden polka dot wedges 8.5 - wi06</td>\n",
              "      <td>12.0</td>\n",
              "    </tr>\n",
              "    <tr>\n",
              "      <th>3</th>\n",
              "      <td>645810</td>\n",
              "      <td>4</td>\n",
              "      <td>27</td>\n",
              "      <td>NaN</td>\n",
              "      <td>6335.0</td>\n",
              "      <td>NaN</td>\n",
              "      <td>0.0</td>\n",
              "      <td>crown &amp; ivy navy blue floral print shorts</td>\n",
              "      <td>12.0</td>\n",
              "    </tr>\n",
              "    <tr>\n",
              "      <th>4</th>\n",
              "      <td>854374</td>\n",
              "      <td>4</td>\n",
              "      <td>22</td>\n",
              "      <td>302.0</td>\n",
              "      <td>3606.0</td>\n",
              "      <td>2.0</td>\n",
              "      <td>45.0</td>\n",
              "      <td>grey wide leg dress pants</td>\n",
              "      <td>22.0</td>\n",
              "    </tr>\n",
              "  </tbody>\n",
              "</table>\n",
              "</div>"
            ],
            "text/plain": [
              "       id  attr1  ...                                             title  sold_price\n",
              "0  742122      4  ...  one teaspoon bandit distressed denim shorts (23)        65.0\n",
              "1  652751      4  ...  gucci emily mini guccissima mini red leather bag       600.0\n",
              "2  228229      4  ...          steve madden polka dot wedges 8.5 - wi06        12.0\n",
              "3  645810      4  ...         crown & ivy navy blue floral print shorts        12.0\n",
              "4  854374      4  ...                         grey wide leg dress pants        22.0\n",
              "\n",
              "[5 rows x 9 columns]"
            ]
          },
          "metadata": {
            "tags": []
          },
          "execution_count": 7
        }
      ]
    },
    {
      "cell_type": "code",
      "metadata": {
        "id": "P8ahchRxmEKX",
        "outputId": "781170e7-eaa0-4a06-9c3a-05ad51ac42a1",
        "colab": {
          "base_uri": "https://localhost:8080/",
          "height": 305
        }
      },
      "source": [
        "data.info()"
      ],
      "execution_count": null,
      "outputs": [
        {
          "output_type": "stream",
          "text": [
            "<class 'pandas.core.frame.DataFrame'>\n",
            "RangeIndex: 1029850 entries, 0 to 1029849\n",
            "Data columns (total 9 columns):\n",
            " #   Column      Non-Null Count    Dtype  \n",
            "---  ------      --------------    -----  \n",
            " 0   id          1029850 non-null  int64  \n",
            " 1   attr1       1029850 non-null  int64  \n",
            " 2   attr2       1029850 non-null  int64  \n",
            " 3   attr3       843080 non-null   float64\n",
            " 4   attr4       864417 non-null   float64\n",
            " 5   attr5       495664 non-null   float64\n",
            " 6   attr6       1029850 non-null  float64\n",
            " 7   title       1029761 non-null  object \n",
            " 8   sold_price  1029850 non-null  float64\n",
            "dtypes: float64(5), int64(3), object(1)\n",
            "memory usage: 70.7+ MB\n"
          ],
          "name": "stdout"
        }
      ]
    },
    {
      "cell_type": "code",
      "metadata": {
        "id": "97u_dC0JaPct",
        "outputId": "920f1834-cf5d-46e6-bfd3-2a66e1a15e07",
        "colab": {
          "base_uri": "https://localhost:8080/",
          "height": 35
        }
      },
      "source": [
        "print('Rows: {0} and cols: {1}'.format(*data.shape))"
      ],
      "execution_count": null,
      "outputs": [
        {
          "output_type": "stream",
          "text": [
            "Rows: 1029850 and cols: 9\n"
          ],
          "name": "stdout"
        }
      ]
    },
    {
      "cell_type": "code",
      "metadata": {
        "id": "pPuNI2l_BfWP",
        "outputId": "778d66ae-fce9-41fa-cdc5-e66ef677e2d3",
        "colab": {
          "base_uri": "https://localhost:8080/",
          "height": 53
        }
      },
      "source": [
        "print('Number of Listing Id labels: ', len(data.id.unique()))\n",
        "print('Number of Listings in the Dataset: ', len(data))"
      ],
      "execution_count": null,
      "outputs": [
        {
          "output_type": "stream",
          "text": [
            "Number of Listing Id labels:  999850\n",
            "Number of Listings in the Dataset:  1029850\n"
          ],
          "name": "stdout"
        }
      ]
    },
    {
      "cell_type": "code",
      "metadata": {
        "id": "3B6oFadNGov7",
        "outputId": "2bbe3a7c-4bc3-4046-a57d-8c4106978365",
        "colab": {
          "base_uri": "https://localhost:8080/",
          "height": 297
        }
      },
      "source": [
        "data.describe()"
      ],
      "execution_count": null,
      "outputs": [
        {
          "output_type": "execute_result",
          "data": {
            "text/html": [
              "<div>\n",
              "<style scoped>\n",
              "    .dataframe tbody tr th:only-of-type {\n",
              "        vertical-align: middle;\n",
              "    }\n",
              "\n",
              "    .dataframe tbody tr th {\n",
              "        vertical-align: top;\n",
              "    }\n",
              "\n",
              "    .dataframe thead th {\n",
              "        text-align: right;\n",
              "    }\n",
              "</style>\n",
              "<table border=\"1\" class=\"dataframe\">\n",
              "  <thead>\n",
              "    <tr style=\"text-align: right;\">\n",
              "      <th></th>\n",
              "      <th>id</th>\n",
              "      <th>attr1</th>\n",
              "      <th>attr2</th>\n",
              "      <th>attr3</th>\n",
              "      <th>attr4</th>\n",
              "      <th>attr5</th>\n",
              "      <th>attr6</th>\n",
              "      <th>sold_price</th>\n",
              "    </tr>\n",
              "  </thead>\n",
              "  <tbody>\n",
              "    <tr>\n",
              "      <th>count</th>\n",
              "      <td>1.029850e+06</td>\n",
              "      <td>1.029850e+06</td>\n",
              "      <td>1.029850e+06</td>\n",
              "      <td>843080.000000</td>\n",
              "      <td>864417.000000</td>\n",
              "      <td>495664.000000</td>\n",
              "      <td>1.029850e+06</td>\n",
              "      <td>1.029850e+06</td>\n",
              "    </tr>\n",
              "    <tr>\n",
              "      <th>mean</th>\n",
              "      <td>4.999636e+05</td>\n",
              "      <td>3.792792e+00</td>\n",
              "      <td>1.611883e+01</td>\n",
              "      <td>170.677981</td>\n",
              "      <td>3026.511901</td>\n",
              "      <td>1.452339</td>\n",
              "      <td>4.572187e+09</td>\n",
              "      <td>1.959587e+02</td>\n",
              "    </tr>\n",
              "    <tr>\n",
              "      <th>std</th>\n",
              "      <td>2.886351e+05</td>\n",
              "      <td>5.353355e-01</td>\n",
              "      <td>1.087543e+01</td>\n",
              "      <td>91.907382</td>\n",
              "      <td>1842.932124</td>\n",
              "      <td>0.497728</td>\n",
              "      <td>4.594750e+12</td>\n",
              "      <td>1.440187e+03</td>\n",
              "    </tr>\n",
              "    <tr>\n",
              "      <th>min</th>\n",
              "      <td>1.000000e+00</td>\n",
              "      <td>1.000000e+00</td>\n",
              "      <td>1.000000e+00</td>\n",
              "      <td>1.000000</td>\n",
              "      <td>1.000000</td>\n",
              "      <td>1.000000</td>\n",
              "      <td>0.000000e+00</td>\n",
              "      <td>0.000000e+00</td>\n",
              "    </tr>\n",
              "    <tr>\n",
              "      <th>25%</th>\n",
              "      <td>2.500282e+05</td>\n",
              "      <td>4.000000e+00</td>\n",
              "      <td>3.000000e+00</td>\n",
              "      <td>89.000000</td>\n",
              "      <td>1453.000000</td>\n",
              "      <td>1.000000</td>\n",
              "      <td>2.700000e+01</td>\n",
              "      <td>1.500000e+01</td>\n",
              "    </tr>\n",
              "    <tr>\n",
              "      <th>50%</th>\n",
              "      <td>4.999745e+05</td>\n",
              "      <td>4.000000e+00</td>\n",
              "      <td>1.400000e+01</td>\n",
              "      <td>180.000000</td>\n",
              "      <td>2896.000000</td>\n",
              "      <td>1.000000</td>\n",
              "      <td>1.190000e+02</td>\n",
              "      <td>5.000000e+01</td>\n",
              "    </tr>\n",
              "    <tr>\n",
              "      <th>75%</th>\n",
              "      <td>7.499088e+05</td>\n",
              "      <td>4.000000e+00</td>\n",
              "      <td>2.600000e+01</td>\n",
              "      <td>252.000000</td>\n",
              "      <td>4425.000000</td>\n",
              "      <td>2.000000</td>\n",
              "      <td>6.000000e+02</td>\n",
              "      <td>2.790000e+02</td>\n",
              "    </tr>\n",
              "    <tr>\n",
              "      <th>max</th>\n",
              "      <td>9.998500e+05</td>\n",
              "      <td>4.000000e+00</td>\n",
              "      <td>3.500000e+01</td>\n",
              "      <td>306.000000</td>\n",
              "      <td>6640.000000</td>\n",
              "      <td>3.000000</td>\n",
              "      <td>4.662595e+15</td>\n",
              "      <td>8.979010e+05</td>\n",
              "    </tr>\n",
              "  </tbody>\n",
              "</table>\n",
              "</div>"
            ],
            "text/plain": [
              "                 id         attr1  ...         attr6    sold_price\n",
              "count  1.029850e+06  1.029850e+06  ...  1.029850e+06  1.029850e+06\n",
              "mean   4.999636e+05  3.792792e+00  ...  4.572187e+09  1.959587e+02\n",
              "std    2.886351e+05  5.353355e-01  ...  4.594750e+12  1.440187e+03\n",
              "min    1.000000e+00  1.000000e+00  ...  0.000000e+00  0.000000e+00\n",
              "25%    2.500282e+05  4.000000e+00  ...  2.700000e+01  1.500000e+01\n",
              "50%    4.999745e+05  4.000000e+00  ...  1.190000e+02  5.000000e+01\n",
              "75%    7.499088e+05  4.000000e+00  ...  6.000000e+02  2.790000e+02\n",
              "max    9.998500e+05  4.000000e+00  ...  4.662595e+15  8.979010e+05\n",
              "\n",
              "[8 rows x 8 columns]"
            ]
          },
          "metadata": {
            "tags": []
          },
          "execution_count": 24
        }
      ]
    },
    {
      "cell_type": "markdown",
      "metadata": {
        "id": "_3CmO6Ruada1"
      },
      "source": [
        "There are missing values in some columns, so let's start by analysing them first."
      ]
    },
    {
      "cell_type": "markdown",
      "metadata": {
        "id": "tSTUD1v9GxgD"
      },
      "source": [
        "## Target Distribution"
      ]
    },
    {
      "cell_type": "code",
      "metadata": {
        "id": "eenv1A5_HmpF",
        "outputId": "fb24679f-1889-4d59-9e76-b1260fcd1d9c",
        "colab": {
          "base_uri": "https://localhost:8080/",
          "height": 35
        }
      },
      "source": [
        "data[data['sold_price'] > 0].shape[0]"
      ],
      "execution_count": null,
      "outputs": [
        {
          "output_type": "execute_result",
          "data": {
            "text/plain": [
              "1009850"
            ]
          },
          "metadata": {
            "tags": []
          },
          "execution_count": 28
        }
      ]
    },
    {
      "cell_type": "code",
      "metadata": {
        "id": "oW-mCifSHwUv",
        "outputId": "8ca09e9d-bb72-47cc-9093-ebaeb43c6527",
        "colab": {
          "base_uri": "https://localhost:8080/",
          "height": 35
        }
      },
      "source": [
        "data[data['sold_price'] == 0].shape[0]"
      ],
      "execution_count": null,
      "outputs": [
        {
          "output_type": "execute_result",
          "data": {
            "text/plain": [
              "20000"
            ]
          },
          "metadata": {
            "tags": []
          },
          "execution_count": 29
        }
      ]
    },
    {
      "cell_type": "markdown",
      "metadata": {
        "id": "467cGofHH3YA"
      },
      "source": [
        "There are 20000 listings with no price details, we might be better off removing them"
      ]
    },
    {
      "cell_type": "code",
      "metadata": {
        "id": "rW4x8oqyG1eY",
        "outputId": "d017dbbf-ce69-4eb5-d106-9ef6bade2847",
        "colab": {
          "base_uri": "https://localhost:8080/",
          "height": 294
        }
      },
      "source": [
        "bdata['sold_price'].hist(bins=10)"
      ],
      "execution_count": null,
      "outputs": [
        {
          "output_type": "execute_result",
          "data": {
            "text/plain": [
              "<matplotlib.axes._subplots.AxesSubplot at 0x7f23b823ac50>"
            ]
          },
          "metadata": {
            "tags": []
          },
          "execution_count": 27
        },
        {
          "output_type": "display_data",
          "data": {
            "image/png": "[encoded data removed]",
            "text/plain": [
              "<Figure size 432x288 with 1 Axes>"
            ]
          },
          "metadata": {
            "tags": [],
            "needs_background": "light"
          }
        }
      ]
    },
    {
      "cell_type": "markdown",
      "metadata": {
        "id": "LOwobBRya-k9"
      },
      "source": [
        "## Missing value analysis"
      ]
    },
    {
      "cell_type": "code",
      "metadata": {
        "id": "JvC7jqjUbAhU",
        "outputId": "feda58e4-98bd-4ae1-dc09-8a580ff30dce",
        "colab": {
          "base_uri": "https://localhost:8080/",
          "height": 107
        }
      },
      "source": [
        "# make a list of the variables that contain missing values\n",
        "vars_with_na = [var for var in data.columns if data[var].isnull().sum() > 0]\n",
        "\n",
        "# get percentage of missing values\n",
        "data[vars_with_na].isnull().mean()"
      ],
      "execution_count": null,
      "outputs": [
        {
          "output_type": "execute_result",
          "data": {
            "text/plain": [
              "attr3    0.181357\n",
              "attr4    0.160638\n",
              "attr5    0.518703\n",
              "title    0.000086\n",
              "dtype: float64"
            ]
          },
          "metadata": {
            "tags": []
          },
          "execution_count": 8
        }
      ]
    },
    {
      "cell_type": "markdown",
      "metadata": {
        "id": "0C9cH7gsbGtn"
      },
      "source": [
        "There is a sizeable chunk of missing data in feature `attrs5` Let's try to see whether they influence the price of a listing."
      ]
    },
    {
      "cell_type": "code",
      "metadata": {
        "id": "dglkTg-VbnNj",
        "outputId": "4e1010f0-190b-44cc-dccf-1995e492d8f9",
        "colab": {
          "base_uri": "https://localhost:8080/",
          "height": 1000
        }
      },
      "source": [
        "def analyse_na_value(df, var):\n",
        "\n",
        "    df = df.copy()\n",
        "\n",
        "    # let's make a variable that indicates 1 if the observation was missing or zero otherwise\n",
        "    df[var] = np.where(df[var].isnull(), 1, 0)\n",
        "\n",
        "    # let's compare the median sold_price in the observations where data is missing\n",
        "    # vs the observations where a value is available\n",
        "\n",
        "    df.groupby(var)['sold_price'].median().plot.bar()\n",
        "\n",
        "    plt.title(var)\n",
        "    plt.show()\n",
        "\n",
        "\n",
        "for var in vars_with_na:\n",
        "    analyse_na_value(data, var)"
      ],
      "execution_count": null,
      "outputs": [
        {
          "output_type": "display_data",
          "data": {
            "image/png": "[encoded data removed]",
            "text/plain": [
              "<Figure size 432x288 with 1 Axes>"
            ]
          },
          "metadata": {
            "tags": [],
            "needs_background": "light"
          }
        },
        {
          "output_type": "display_data",
          "data": {
            "image/png": "[encoded data removed]",
            "text/plain": [
              "<Figure size 432x288 with 1 Axes>"
            ]
          },
          "metadata": {
            "tags": [],
            "needs_background": "light"
          }
        },
        {
          "output_type": "display_data",
          "data": {
            "image/png": "[encoded data removed]",
            "text/plain": [
              "<Figure size 432x288 with 1 Axes>"
            ]
          },
          "metadata": {
            "tags": [],
            "needs_background": "light"
          }
        },
        {
          "output_type": "display_data",
          "data": {
            "image/png": "[encoded data removed]",
            "text/plain": [
              "<Figure size 432x288 with 1 Axes>"
            ]
          },
          "metadata": {
            "tags": [],
            "needs_background": "light"
          }
        }
      ]
    },
    {
      "cell_type": "markdown",
      "metadata": {
        "id": "FTtgkyuAbyuW"
      },
      "source": [
        "There is a change in the value of the `sold_price` when some attributes are empty, we should try to input this relationship when performing feature engineering"
      ]
    },
    {
      "cell_type": "markdown",
      "metadata": {
        "id": "CCWNb-7xcr60"
      },
      "source": [
        "Almost all the features we have are categorical according to the instuctions given, let us try to analyze the only numeric variable `attr6`"
      ]
    },
    {
      "cell_type": "markdown",
      "metadata": {
        "id": "p5dSyWRJlPS7"
      },
      "source": [
        "## Continous variable analysis "
      ]
    },
    {
      "cell_type": "code",
      "metadata": {
        "id": "PNC9ub5ohNhU",
        "outputId": "f4e3b72b-0ca4-458d-bfca-bc191e4f8549",
        "colab": {
          "base_uri": "https://localhost:8080/",
          "height": 179
        }
      },
      "source": [
        "data['attr6'].describe()"
      ],
      "execution_count": null,
      "outputs": [
        {
          "output_type": "execute_result",
          "data": {
            "text/plain": [
              "count    1.029850e+06\n",
              "mean     4.572187e+09\n",
              "std      4.594750e+12\n",
              "min      0.000000e+00\n",
              "25%      2.700000e+01\n",
              "50%      1.190000e+02\n",
              "75%      6.000000e+02\n",
              "max      4.662595e+15\n",
              "Name: attr6, dtype: float64"
            ]
          },
          "metadata": {
            "tags": []
          },
          "execution_count": 38
        }
      ]
    },
    {
      "cell_type": "code",
      "metadata": {
        "id": "JtxFvAfQiOFS",
        "outputId": "af7f4f75-8d17-445f-c4da-051639c5e438",
        "colab": {
          "base_uri": "https://localhost:8080/",
          "height": 295
        }
      },
      "source": [
        "var = 'attr6'\n",
        "data[var].hist(bins=range(1, 10))\n",
        "plt.ylabel('Number of listings')\n",
        "plt.xlabel(var)\n",
        "plt.title(var)\n",
        "plt.show()"
      ],
      "execution_count": null,
      "outputs": [
        {
          "output_type": "display_data",
          "data": {
            "image/png": "[encoded data removed]",
            "text/plain": [
              "<Figure size 432x288 with 1 Axes>"
            ]
          },
          "metadata": {
            "tags": [],
            "needs_background": "light"
          }
        }
      ]
    },
    {
      "cell_type": "markdown",
      "metadata": {
        "id": "rjj27_dciW74"
      },
      "source": [
        "We can see that the variable is not normally distributed, We should remember to deal with this."
      ]
    },
    {
      "cell_type": "markdown",
      "metadata": {
        "id": "kEdtqqhYlTwm"
      },
      "source": [
        "### Unique value analysis"
      ]
    },
    {
      "cell_type": "markdown",
      "metadata": {
        "id": "4OjfG25qlVUF"
      },
      "source": [
        "The feature `attr6` is an interesting feature (Which can be clarified if it had a name) because the 20% values of that feature is Zero. This causes a confusion as to whether it is a categorical or numerical variable. A pie chart to view the counts."
      ]
    },
    {
      "cell_type": "code",
      "metadata": {
        "id": "jlirORzVld5_",
        "outputId": "bea50181-958d-4641-f940-780a22dd1e59",
        "colab": {
          "base_uri": "https://localhost:8080/",
          "height": 266
        }
      },
      "source": [
        "data['attr6'].value_counts().plot(kind='pie')"
      ],
      "execution_count": null,
      "outputs": [
        {
          "output_type": "execute_result",
          "data": {
            "text/plain": [
              "<matplotlib.axes._subplots.AxesSubplot at 0x7f49d1fe1be0>"
            ]
          },
          "metadata": {
            "tags": []
          },
          "execution_count": 66
        },
        {
          "output_type": "display_data",
          "data": {
            "image/png": "[encoded data removed]",
            "text/plain": [
              "<Figure size 432x288 with 1 Axes>"
            ]
          },
          "metadata": {
            "tags": []
          }
        }
      ]
    },
    {
      "cell_type": "code",
      "metadata": {
        "id": "S8E6R7z6ljS1",
        "outputId": "56e76395-cd0a-46bd-b506-a6f4771e21a1",
        "colab": {
          "base_uri": "https://localhost:8080/",
          "height": 35
        }
      },
      "source": [
        "data[data['attr6'] == 0].shape[0]/data.shape[0]"
      ],
      "execution_count": null,
      "outputs": [
        {
          "output_type": "execute_result",
          "data": {
            "text/plain": [
              "0.2049288731368646"
            ]
          },
          "metadata": {
            "tags": []
          },
          "execution_count": 70
        }
      ]
    },
    {
      "cell_type": "code",
      "metadata": {
        "id": "chB-yGaDnZeW",
        "outputId": "00ff46f4-c1fe-4bc9-cc00-a9a2eeaada8d",
        "colab": {
          "base_uri": "https://localhost:8080/",
          "height": 35
        }
      },
      "source": [
        "data[data['attr6'] > 0].shape[0]/data.shape[0]"
      ],
      "execution_count": null,
      "outputs": [
        {
          "output_type": "execute_result",
          "data": {
            "text/plain": [
              "0.7950711268631354"
            ]
          },
          "metadata": {
            "tags": []
          },
          "execution_count": 69
        }
      ]
    },
    {
      "cell_type": "markdown",
      "metadata": {
        "id": "gDBZGZ6Xnd1Z"
      },
      "source": [
        "## Categorical variable analysis"
      ]
    },
    {
      "cell_type": "markdown",
      "metadata": {
        "id": "PNPKoxFrpXHc"
      },
      "source": [
        "As per the instructions the categorical variables are"
      ]
    },
    {
      "cell_type": "code",
      "metadata": {
        "id": "9lhIaz26pCdG"
      },
      "source": [
        "cat_vars ='attr1\tattr2\tattr3\tattr4\tattr5'.split('\t')"
      ],
      "execution_count": null,
      "outputs": []
    },
    {
      "cell_type": "markdown",
      "metadata": {
        "id": "WvWfGGf8pdK7"
      },
      "source": [
        "Let's check the cardinality"
      ]
    },
    {
      "cell_type": "code",
      "metadata": {
        "id": "a5pnbrDCpVlV",
        "outputId": "1e22cac8-ed43-45da-bf8a-346bae0bcaad",
        "colab": {
          "base_uri": "https://localhost:8080/",
          "height": 125
        }
      },
      "source": [
        "data[cat_vars].nunique()"
      ],
      "execution_count": null,
      "outputs": [
        {
          "output_type": "execute_result",
          "data": {
            "text/plain": [
              "attr1       4\n",
              "attr2      35\n",
              "attr3     306\n",
              "attr4    6640\n",
              "attr5       3\n",
              "dtype: int64"
            ]
          },
          "metadata": {
            "tags": []
          },
          "execution_count": 74
        }
      ]
    },
    {
      "cell_type": "markdown",
      "metadata": {
        "id": "E7aJkstepf_v"
      },
      "source": [
        "We do have huge number of categories in `attr3` and `attr4`, let's see about the rare labels with respect to the sold prices of the listing."
      ]
    },
    {
      "cell_type": "code",
      "metadata": {
        "id": "ORxwPPADqH4e",
        "outputId": "c39c8f88-a78d-42a3-9482-81a3bb70b754",
        "colab": {
          "base_uri": "https://localhost:8080/",
          "height": 863
        }
      },
      "source": [
        "def analyse_rare_labels(df, var, rare_perc):\n",
        "    df = df.copy()\n",
        "\n",
        "    # determine the % of observations per category\n",
        "    tmp = df.groupby(var)['sold_price'].count() / len(df)\n",
        "\n",
        "    # return categories that are rare\n",
        "    return tmp[tmp < rare_perc]\n",
        "\n",
        "# print categories that are present in less than\n",
        "# .1 % of the observations\n",
        "\n",
        "for var in cat_vars:\n",
        "    print(analyse_rare_labels(data, var, 0.001))\n",
        "    print()"
      ],
      "execution_count": null,
      "outputs": [
        {
          "output_type": "stream",
          "text": [
            "Series([], Name: sold_price, dtype: float64)\n",
            "\n",
            "attr2\n",
            "4     0.000229\n",
            "5     0.000979\n",
            "7     0.000657\n",
            "8     0.000653\n",
            "10    0.000738\n",
            "18    0.000559\n",
            "23    0.000122\n",
            "29    0.000257\n",
            "34    0.000841\n",
            "35    0.000574\n",
            "Name: sold_price, dtype: float64\n",
            "\n",
            "attr3\n",
            "1.0      0.000804\n",
            "2.0      0.000156\n",
            "5.0      0.000304\n",
            "6.0      0.000084\n",
            "7.0      0.000766\n",
            "           ...   \n",
            "297.0    0.000006\n",
            "299.0    0.000102\n",
            "303.0    0.000664\n",
            "305.0    0.000013\n",
            "306.0    0.000770\n",
            "Name: sold_price, Length: 197, dtype: float64\n",
            "\n",
            "attr4\n",
            "1.0       5.826091e-06\n",
            "2.0       1.340001e-04\n",
            "3.0       2.233335e-05\n",
            "4.0       4.757974e-05\n",
            "5.0       9.710152e-07\n",
            "              ...     \n",
            "6636.0    2.126523e-04\n",
            "6637.0    2.524640e-05\n",
            "6638.0    5.826091e-06\n",
            "6639.0    9.710152e-07\n",
            "6640.0    2.913046e-06\n",
            "Name: sold_price, Length: 6510, dtype: float64\n",
            "\n",
            "attr5\n",
            "3.0    9.710152e-07\n",
            "Name: sold_price, dtype: float64\n",
            "\n"
          ],
          "name": "stdout"
        }
      ]
    },
    {
      "cell_type": "markdown",
      "metadata": {
        "id": "vcr9tm3MqMZF"
      },
      "source": [
        "`attr4` has a lot of rare labels `6510` (98% of total unique labels)"
      ]
    },
    {
      "cell_type": "markdown",
      "metadata": {
        "id": "jSNFi99eui3J"
      },
      "source": [
        "We should try relating each category with the `sold_price`"
      ]
    },
    {
      "cell_type": "code",
      "metadata": {
        "id": "n1oeGK6Uq4Si",
        "outputId": "0d4d236b-e079-4641-acae-5799dd8aa684",
        "colab": {
          "base_uri": "https://localhost:8080/",
          "height": 1000
        }
      },
      "source": [
        "def analyse_discrete(df, var):\n",
        "    df = df.copy()\n",
        "    df.groupby(var)['sold_price'].median().plot.bar()\n",
        "    plt.title(var)\n",
        "    plt.ylabel('Median sold_price')\n",
        "    plt.show()\n",
        "    \n",
        "for var in cat_vars:\n",
        "    analyse_discrete(data, var)"
      ],
      "execution_count": null,
      "outputs": [
        {
          "output_type": "display_data",
          "data": {
            "image/png": "[encoded data removed]",
            "text/plain": [
              "<Figure size 432x288 with 1 Axes>"
            ]
          },
          "metadata": {
            "tags": [],
            "needs_background": "light"
          }
        },
        {
          "output_type": "display_data",
          "data": {
            "image/png": "[encoded data removed]",
            "text/plain": [
              "<Figure size 432x288 with 1 Axes>"
            ]
          },
          "metadata": {
            "tags": [],
            "needs_background": "light"
          }
        },
        {
          "output_type": "display_data",
          "data": {
            "image/png": "[encoded data removed]",
            "text/plain": [
              "<Figure size 432x288 with 1 Axes>"
            ]
          },
          "metadata": {
            "tags": [],
            "needs_background": "light"
          }
        },
        {
          "output_type": "display_data",
          "data": {
            "image/png": "[encoded data removed]",
            "text/plain": [
              "<Figure size 432x288 with 1 Axes>"
            ]
          },
          "metadata": {
            "tags": [],
            "needs_background": "light"
          }
        },
        {
          "output_type": "display_data",
          "data": {
            "image/png": "[encoded data removed]",
            "text/plain": [
              "<Figure size 432x288 with 1 Axes>"
            ]
          },
          "metadata": {
            "tags": [],
            "needs_background": "light"
          }
        }
      ]
    },
    {
      "cell_type": "markdown",
      "metadata": {
        "id": "3gYsDXuxvDlx"
      },
      "source": [
        "## Outlier Analysis"
      ]
    },
    {
      "cell_type": "code",
      "metadata": {
        "id": "vuuDpQaevFnT",
        "outputId": "2f841ed1-5de7-4efe-cf8c-ca64637e872b",
        "colab": {
          "base_uri": "https://localhost:8080/",
          "height": 281
        }
      },
      "source": [
        "# let's make boxplots to visualise outliers in the continuous variables\n",
        "def find_outliers(df, var):\n",
        "    df = df.copy()\n",
        "\n",
        "    # log does not take negative values, so let's be\n",
        "    # careful and skip those variables\n",
        "    df[var] = np.log1p(df[var])\n",
        "    df.boxplot(column=var)\n",
        "    plt.title(var)\n",
        "    plt.ylabel(var)\n",
        "    plt.show()\n",
        "\n",
        "\n",
        "for var in ['attr6']:\n",
        "    find_outliers(data, var)"
      ],
      "execution_count": null,
      "outputs": [
        {
          "output_type": "display_data",
          "data": {
            "image/png": "[encoded data removed]",
            "text/plain": [
              "<Figure size 432x288 with 1 Axes>"
            ]
          },
          "metadata": {
            "tags": [],
            "needs_background": "light"
          }
        }
      ]
    },
    {
      "cell_type": "markdown",
      "metadata": {
        "id": "JvVkWcz-riVT"
      },
      "source": [
        "# Feature Engineering"
      ]
    },
    {
      "cell_type": "markdown",
      "metadata": {
        "id": "aNiT-qGFKXxo"
      },
      "source": [
        "## Import libraries for Feature engineering"
      ]
    },
    {
      "cell_type": "code",
      "metadata": {
        "id": "Tn-2ENnDKqUX"
      },
      "source": [
        "from sklearn.pipeline import Pipeline\n",
        "from sklearn.compose import ColumnTransformer\n",
        "from sklearn.preprocessing import OneHotEncoder"
      ],
      "execution_count": null,
      "outputs": []
    },
    {
      "cell_type": "markdown",
      "metadata": {
        "id": "bZCPYpKJyPa0"
      },
      "source": [
        "Before we do the actual feature engineering, let's split the data to train and test sets.\n",
        "\n",
        "Since we need to be able to evaluate the model based on the bins of `sold_price` like 0-50, 50-100, 100-500, 500-1000 and 1000+., Let's stratify the splitting by creating bins of the target variable"
      ]
    },
    {
      "cell_type": "markdown",
      "metadata": {
        "id": "X0u_WpsQIhkb"
      },
      "source": [
        "Avoid zero price listings"
      ]
    },
    {
      "cell_type": "markdown",
      "metadata": {
        "id": "Ab1vuTlN76V_"
      },
      "source": [
        "## Train test split"
      ]
    },
    {
      "cell_type": "code",
      "metadata": {
        "id": "F3nQ1TpSIud_"
      },
      "source": [
        "zero_filter = data['sold_price'] > 0"
      ],
      "execution_count": null,
      "outputs": []
    },
    {
      "cell_type": "code",
      "metadata": {
        "id": "6s2jqGdZzhS7"
      },
      "source": [
        "bins = np.linspace(0, 1000, 10)\n",
        "\n",
        "y_binned = np.digitize(data.loc[zero_filter, 'sold_price'], bins)"
      ],
      "execution_count": null,
      "outputs": []
    },
    {
      "cell_type": "code",
      "metadata": {
        "id": "q07bqriJ5Jvf"
      },
      "source": [
        "X_train, X_test, y_train, y_test = train_test_split(data[zero_filter].copy(),\n",
        "                                                    data.loc[zero_filter, 'sold_price'].copy(),\n",
        "                                                    test_size=0.3, stratify=y_binned)"
      ],
      "execution_count": null,
      "outputs": []
    },
    {
      "cell_type": "code",
      "metadata": {
        "id": "7LyldkPH1pRz",
        "outputId": "eb163710-609e-47ea-c690-f20c6f988588",
        "colab": {
          "base_uri": "https://localhost:8080/",
          "height": 71
        }
      },
      "source": [
        "bins"
      ],
      "execution_count": null,
      "outputs": [
        {
          "output_type": "execute_result",
          "data": {
            "text/plain": [
              "array([   0.        ,  111.11111111,  222.22222222,  333.33333333,\n",
              "        444.44444444,  555.55555556,  666.66666667,  777.77777778,\n",
              "        888.88888889, 1000.        ])"
            ]
          },
          "metadata": {
            "tags": []
          },
          "execution_count": 199
        }
      ]
    },
    {
      "cell_type": "code",
      "metadata": {
        "id": "pX31ywlZ6QPe",
        "outputId": "ba14d7b1-b9a5-457e-d22d-7249faf82898",
        "colab": {
          "base_uri": "https://localhost:8080/",
          "height": 215
        }
      },
      "source": [
        "pd.Series(y_binned).value_counts()"
      ],
      "execution_count": null,
      "outputs": [
        {
          "output_type": "execute_result",
          "data": {
            "text/plain": [
              "1     570573\n",
              "3     144418\n",
              "2     104505\n",
              "4      71537\n",
              "5      44670\n",
              "10     24617\n",
              "6      19932\n",
              "7      13618\n",
              "8       9224\n",
              "9       6756\n",
              "dtype: int64"
            ]
          },
          "metadata": {
            "tags": []
          },
          "execution_count": 200
        }
      ]
    },
    {
      "cell_type": "markdown",
      "metadata": {
        "id": "AS2OM8MEw-yo"
      },
      "source": [
        "## Missing values"
      ]
    },
    {
      "cell_type": "markdown",
      "metadata": {
        "id": "5huFyfX9xRtZ"
      },
      "source": [
        "Let's check the percentage of missing values in the data"
      ]
    },
    {
      "cell_type": "code",
      "metadata": {
        "id": "8HswsO5NxKp0",
        "outputId": "550da870-0d36-4cdd-fa7a-86c3f1ac5562",
        "colab": {
          "base_uri": "https://localhost:8080/",
          "height": 107
        }
      },
      "source": [
        "# make a list of the variables that contain missing values\n",
        "vars_with_na = [var for var in X_train.columns if data[var].isnull().sum() > 0]\n",
        "\n",
        "# get percentage of missing values\n",
        "X_train[vars_with_na].isnull().mean()"
      ],
      "execution_count": null,
      "outputs": [
        {
          "output_type": "execute_result",
          "data": {
            "text/plain": [
              "attr3    0.181816\n",
              "attr4    0.160420\n",
              "attr5    0.518667\n",
              "title    0.000089\n",
              "dtype: float64"
            ]
          },
          "metadata": {
            "tags": []
          },
          "execution_count": 236
        }
      ]
    },
    {
      "cell_type": "code",
      "metadata": {
        "id": "tGLrQNCZETSA",
        "outputId": "3395ab13-8403-4d92-eed1-108346adff36",
        "colab": {
          "base_uri": "https://localhost:8080/",
          "height": 107
        }
      },
      "source": [
        "# make a list of the variables that contain missing values\n",
        "vars_with_na = [var for var in X_test.columns if data[var].isnull().sum() > 0]\n",
        "\n",
        "# get percentage of missing values\n",
        "X_test[vars_with_na].isnull().mean()"
      ],
      "execution_count": null,
      "outputs": [
        {
          "output_type": "execute_result",
          "data": {
            "text/plain": [
              "attr3    0.180113\n",
              "attr4    0.161057\n",
              "attr5    0.518562\n",
              "title    0.000083\n",
              "dtype: float64"
            ]
          },
          "metadata": {
            "tags": []
          },
          "execution_count": 237
        }
      ]
    },
    {
      "cell_type": "markdown",
      "metadata": {
        "id": "u2KitQblxGU6"
      },
      "source": [
        "All the features with missing variables are categorical/string variables, so let's just assign some arbitrary value missing to them."
      ]
    },
    {
      "cell_type": "code",
      "metadata": {
        "id": "GtI6ylHUxsEI"
      },
      "source": [
        "# replace missing values with new label: \"No Value Present\" for title\n",
        "# and with an arbitrary number for others\n",
        "\n",
        "miss_cat = ['attr3', 'attr4', 'attr5']\n",
        "\n",
        "X_train[miss_cat] = X_train[miss_cat].fillna(-9999)\n",
        "X_test[miss_cat] = X_test[miss_cat].fillna(-9999)\n",
        "\n",
        "X_train['title'] = X_train['title'].fillna('No Value Present')\n",
        "X_test['title'] = X_test['title'].fillna('No Value Present')"
      ],
      "execution_count": null,
      "outputs": []
    },
    {
      "cell_type": "code",
      "metadata": {
        "id": "CnNhNqeu9SS3",
        "outputId": "2b9303ca-000e-4c08-ef2d-e23c92e1233a",
        "colab": {
          "base_uri": "https://localhost:8080/",
          "height": 35
        }
      },
      "source": [
        "# check that test set does not contain null values in the engineered variables\n",
        "\n",
        "[var for var in vars_with_na if X_test[var].isnull().sum() > 0]"
      ],
      "execution_count": null,
      "outputs": [
        {
          "output_type": "execute_result",
          "data": {
            "text/plain": [
              "[]"
            ]
          },
          "metadata": {
            "tags": []
          },
          "execution_count": 255
        }
      ]
    },
    {
      "cell_type": "code",
      "metadata": {
        "id": "jraYGwSe9S4W",
        "outputId": "c83f2b82-d585-4cba-edb5-8d984c3009d3",
        "colab": {
          "base_uri": "https://localhost:8080/",
          "height": 35
        }
      },
      "source": [
        "# check that train set does not contain null values in the engineered variables\n",
        "\n",
        "[var for var in vars_with_na if X_train[var].isnull().sum() > 0]"
      ],
      "execution_count": null,
      "outputs": [
        {
          "output_type": "execute_result",
          "data": {
            "text/plain": [
              "[]"
            ]
          },
          "metadata": {
            "tags": []
          },
          "execution_count": 256
        }
      ]
    },
    {
      "cell_type": "markdown",
      "metadata": {
        "id": "tcDYLfS81x-w"
      },
      "source": [
        "As per the instruction the variable `Id` is kind of a temporal variable indicating the time in which the item was sold. So we can see if it helps with the prediction"
      ]
    },
    {
      "cell_type": "markdown",
      "metadata": {
        "id": "_12oqXnr2eV8"
      },
      "source": [
        "Our only numeric variable as per the instruction is `attr6` and it has no missing values so we do not need to touch that for now."
      ]
    },
    {
      "cell_type": "markdown",
      "metadata": {
        "id": "MykL6s_w2qG1"
      },
      "source": [
        "## Handle infrequent/rare labels"
      ]
    },
    {
      "cell_type": "code",
      "metadata": {
        "id": "f7yimkil3JxU"
      },
      "source": [
        "def find_frequent_labels(df, var, rare_perc):\n",
        "    \n",
        "    # function finds the labels that are shared by more than\n",
        "    # a certain % of the listings in the dataset\n",
        "\n",
        "    df = df.copy()\n",
        "\n",
        "    tmp = df.groupby(var)['sold_price'].count() / len(df)\n",
        "\n",
        "    return tmp[tmp > rare_perc].index\n",
        "\n",
        "\n",
        "for var in cat_vars:\n",
        "    \n",
        "    # find the frequent categories\n",
        "    frequent_ls = find_frequent_labels(X_train, var, 0.001)\n",
        "\n",
        "    # replace rare categories by an arbitrary number\n",
        "    X_train[var] = np.where(X_train[var].isin(\n",
        "        frequent_ls), X_train[var], -999)\n",
        "    \n",
        "    X_test[var] = np.where(X_test[var].isin(\n",
        "        frequent_ls), X_test[var], -999)"
      ],
      "execution_count": null,
      "outputs": []
    },
    {
      "cell_type": "code",
      "metadata": {
        "id": "5ndj2n5Y3_yz"
      },
      "source": [
        "# this function will assign discrete values to the values of the variables,\n",
        "# so that the smaller value corresponds to the category that shows the smaller\n",
        "# mean sold_price\n",
        "\n",
        "def replace_categories(train, test, var, target):\n",
        "\n",
        "    # order the categories in a variable from that with the lowest\n",
        "    # house sale price, to that with the highest\n",
        "    ordered_labels = train.groupby([var])[target].mean().sort_values().index\n",
        "    # create a dictionary of ordered categories to integer values\n",
        "    ordinal_label = {k: i for i, k in enumerate(ordered_labels, 0)}\n",
        "    with open(f'{var}.json', 'w') as f: json.dump(ordinal_label, f)\n",
        "\n",
        "    # use the dictionary to replace the categorical strings by integers\n",
        "    train[var] = train[var].map(ordinal_label)\n",
        "    test[var] = test[var].map(ordinal_label)"
      ],
      "execution_count": null,
      "outputs": []
    },
    {
      "cell_type": "code",
      "metadata": {
        "id": "vUNAfo_97_TK",
        "outputId": "d49167d5-bd1b-4b2e-e6c0-46b5e247e55f",
        "colab": {
          "base_uri": "https://localhost:8080/",
          "height": 35
        }
      },
      "source": [
        "cat_vars"
      ],
      "execution_count": null,
      "outputs": [
        {
          "output_type": "execute_result",
          "data": {
            "text/plain": [
              "['attr1', 'attr2', 'attr3', 'attr4', 'attr5']"
            ]
          },
          "metadata": {
            "tags": []
          },
          "execution_count": 231
        }
      ]
    },
    {
      "cell_type": "code",
      "metadata": {
        "id": "Q1r31OrA4ole"
      },
      "source": [
        "for var in cat_vars:\n",
        "    replace_categories(X_train, X_test, var, 'sold_price')"
      ],
      "execution_count": null,
      "outputs": []
    },
    {
      "cell_type": "code",
      "metadata": {
        "id": "QkDVz5UcKLUH",
        "outputId": "076a43c4-31ae-4ff6-9191-e0559b619f34",
        "colab": {
          "base_uri": "https://localhost:8080/",
          "height": 1000
        }
      },
      "source": [
        "# for displaying monotonic relationship\n",
        "# between labels and target\n",
        "\n",
        "def analyse_vars(df, var):\n",
        "    # function plots median sold price per encoded category\n",
        "    \n",
        "    df = df.copy()\n",
        "    df.groupby(var)['sold_price'].median().plot.bar()\n",
        "    plt.title(var)\n",
        "    plt.ylabel('sold_price')\n",
        "    plt.show()\n",
        "    \n",
        "for var in cat_vars:\n",
        "    analyse_vars(X_train, var)"
      ],
      "execution_count": null,
      "outputs": [
        {
          "output_type": "display_data",
          "data": {
            "image/png": "[encoded data removed]",
            "text/plain": [
              "<Figure size 432x288 with 1 Axes>"
            ]
          },
          "metadata": {
            "tags": [],
            "needs_background": "light"
          }
        },
        {
          "output_type": "display_data",
          "data": {
            "image/png": "[encoded data removed]",
            "text/plain": [
              "<Figure size 432x288 with 1 Axes>"
            ]
          },
          "metadata": {
            "tags": [],
            "needs_background": "light"
          }
        },
        {
          "output_type": "display_data",
          "data": {
            "image/png": "[encoded data removed]",
            "text/plain": [
              "<Figure size 432x288 with 1 Axes>"
            ]
          },
          "metadata": {
            "tags": [],
            "needs_background": "light"
          }
        },
        {
          "output_type": "display_data",
          "data": {
            "image/png": "[encoded data removed]",
            "text/plain": [
              "<Figure size 432x288 with 1 Axes>"
            ]
          },
          "metadata": {
            "tags": [],
            "needs_background": "light"
          }
        },
        {
          "output_type": "display_data",
          "data": {
            "image/png": "[encoded data removed]",
            "text/plain": [
              "<Figure size 432x288 with 1 Axes>"
            ]
          },
          "metadata": {
            "tags": [],
            "needs_background": "light"
          }
        }
      ]
    },
    {
      "cell_type": "markdown",
      "metadata": {
        "id": "UFWstsBW7U7D"
      },
      "source": [
        "## Feature scaling"
      ]
    },
    {
      "cell_type": "code",
      "metadata": {
        "id": "ROtuFnOF9nka"
      },
      "source": [
        "num_vars = ['attr6', 'id']\n",
        "numeric_transformer = Pipeline(steps=[\n",
        "    ('scaler', RobustScaler())]\n",
        "    )"
      ],
      "execution_count": null,
      "outputs": []
    },
    {
      "cell_type": "markdown",
      "metadata": {
        "id": "-AG7zrXGNJEI"
      },
      "source": [
        "## Text Feature Extraction"
      ]
    },
    {
      "cell_type": "code",
      "metadata": {
        "id": "Mu5ZzAHoNtW5"
      },
      "source": [
        "from sklearn.feature_extraction.text import TfidfVectorizer\n",
        "from sklearn.decomposition import TruncatedSVD"
      ],
      "execution_count": null,
      "outputs": []
    },
    {
      "cell_type": "code",
      "metadata": {
        "id": "UV8cRYfqNMAp"
      },
      "source": [
        "text_transformer = Pipeline(\n",
        "    steps=[\n",
        "           ('tfidf', TfidfVectorizer()),\n",
        "           ('best', TruncatedSVD(n_components=5))\n",
        "    ]\n",
        ")\n",
        "preprocessor = ColumnTransformer(\n",
        "    transformers=[\n",
        "        ('num', numeric_transformer, num_vars),\n",
        "        ('text', text_transformer, 'title')\n",
        "        ],\n",
        "        remainder='passthrough'\n",
        ")\n"
      ],
      "execution_count": null,
      "outputs": []
    },
    {
      "cell_type": "markdown",
      "metadata": {
        "id": "ydY_ci2qD-ct"
      },
      "source": [
        "# Model Building"
      ]
    },
    {
      "cell_type": "code",
      "metadata": {
        "id": "6clY-8Yct_bz",
        "outputId": "8d5bf934-56bc-4dc7-e45f-3877c53de30d",
        "colab": {
          "base_uri": "https://localhost:8080/",
          "height": 283
        }
      },
      "source": [
        "plt.scatter(x=range(len(y_train)), y=y_train)"
      ],
      "execution_count": null,
      "outputs": [
        {
          "output_type": "execute_result",
          "data": {
            "text/plain": [
              "<matplotlib.collections.PathCollection at 0x7f3b299107b8>"
            ]
          },
          "metadata": {
            "tags": []
          },
          "execution_count": 249
        },
        {
          "output_type": "display_data",
          "data": {
            "image/png": "[encoded data removed]",
            "text/plain": [
              "<Figure size 432x288 with 1 Axes>"
            ]
          },
          "metadata": {
            "tags": [],
            "needs_background": "light"
          }
        }
      ]
    },
    {
      "cell_type": "markdown",
      "metadata": {
        "id": "NvSvpCg65Ei-"
      },
      "source": [
        "The target has outliers, So transforming the target might help the regression model to fit the data"
      ]
    },
    {
      "cell_type": "markdown",
      "metadata": {
        "id": "-Bx3A7bPEJ_Z"
      },
      "source": [
        "## Import required things for modeling"
      ]
    },
    {
      "cell_type": "code",
      "metadata": {
        "id": "WOL7VQmyERn4"
      },
      "source": [
        "# to build the model\n",
        "from sklearn.compose import TransformedTargetRegressor\n",
        "from sklearn.svm import SVR\n",
        "from sklearn.linear_model import Lasso, LassoLarsIC, RidgeCV, LinearRegression, RANSACRegressor, SGDRegressor\n",
        "from sklearn.preprocessing import QuantileTransformer, quantile_transform\n",
        "\n",
        "# to evaluate the model\n",
        "from sklearn.metrics import mean_squared_error, r2_score, median_absolute_error\n",
        "from math import sqrt"
      ],
      "execution_count": null,
      "outputs": []
    },
    {
      "cell_type": "markdown",
      "metadata": {
        "id": "3xcG_n00OjrC"
      },
      "source": [
        "Put together the feature engineering pipeline and model"
      ]
    },
    {
      "cell_type": "code",
      "metadata": {
        "id": "iw-7T2PpC4ga",
        "outputId": "4debfe1f-c8ab-4c39-981a-64cc9f396e4c",
        "colab": {
          "base_uri": "https://localhost:8080/",
          "height": 297
        }
      },
      "source": [
        "density_param = {'density':True}\n",
        "y = X_train.loc[:, 'sold_price'].squeeze()\n",
        "y_trans = quantile_transform(X_train.loc[:, 'sold_price'].values.reshape(-1, 1),\n",
        "                             n_quantiles=300,\n",
        "                             output_distribution='normal',\n",
        "                             copy=True).squeeze()\n",
        "\n",
        "f, (ax0, ax1) = plt.subplots(1, 2)\n",
        "\n",
        "ax0.hist(y, bins=100, **density_param)\n",
        "ax0.set_ylabel('Probability')\n",
        "ax0.set_xlabel('Target')\n",
        "ax0.set_title('Target distribution')\n",
        "\n",
        "ax1.hist(y_trans, bins=100, **density_param)\n",
        "ax1.set_ylabel('Probability')\n",
        "ax1.set_xlabel('Target')\n",
        "ax1.set_title('Transformed target distribution')\n",
        "\n",
        "f.suptitle(\"Listing data: distance to price centers\", y=0.035)\n",
        "f.tight_layout(rect=[0.05, 0.05, 0.95, 0.95])"
      ],
      "execution_count": null,
      "outputs": [
        {
          "output_type": "display_data",
          "data": {
            "image/png": "[encoded data removed]",
            "text/plain": [
              "<Figure size 432x288 with 2 Axes>"
            ]
          },
          "metadata": {
            "tags": [],
            "needs_background": "light"
          }
        }
      ]
    },
    {
      "cell_type": "code",
      "metadata": {
        "id": "oq9qKlPS_gqZ"
      },
      "source": [
        "regr_trans = TransformedTargetRegressor(regressor=LassoLarsIC(normalize=False),\n",
        "                                        transformer=QuantileTransformer(output_distribution='normal'))"
      ],
      "execution_count": null,
      "outputs": []
    },
    {
      "cell_type": "code",
      "metadata": {
        "id": "LVk_J74RPw31"
      },
      "source": [
        "model = Pipeline(steps=[('preprocessor', preprocessor),\n",
        "                      ('regressor', regr_trans)],\n",
        "                 memory='/content'\n",
        "               )"
      ],
      "execution_count": null,
      "outputs": []
    },
    {
      "cell_type": "markdown",
      "metadata": {
        "id": "MTCmVs7qIvCl"
      },
      "source": [
        "## Begin modeling"
      ]
    },
    {
      "cell_type": "code",
      "metadata": {
        "id": "MzCww-zOESYO"
      },
      "source": [
        "_ = X_train.pop('sold_price')\n",
        "_ = X_test.pop('sold_price')"
      ],
      "execution_count": null,
      "outputs": []
    },
    {
      "cell_type": "code",
      "metadata": {
        "id": "RbtaFfxiz4uL",
        "outputId": "e962739e-0e61-44b4-c39a-f8d7364a6db1",
        "colab": {
          "base_uri": "https://localhost:8080/",
          "height": 35
        }
      },
      "source": [
        "X_train.shape"
      ],
      "execution_count": null,
      "outputs": [
        {
          "output_type": "execute_result",
          "data": {
            "text/plain": [
              "(706895, 8)"
            ]
          },
          "metadata": {
            "tags": []
          },
          "execution_count": 262
        }
      ]
    },
    {
      "cell_type": "markdown",
      "metadata": {
        "id": "tNHt0g7FFhsY"
      },
      "source": [
        "Model using regularized linear regression"
      ]
    },
    {
      "cell_type": "code",
      "metadata": {
        "id": "TFrCe3PmFBDy",
        "outputId": "6de40b0f-b50a-413f-c23a-c3ca7fd7995d",
        "colab": {
          "base_uri": "https://localhost:8080/",
          "height": 227
        }
      },
      "source": [
        "model.fit(X_train, y_train)"
      ],
      "execution_count": null,
      "outputs": [
        {
          "output_type": "execute_result",
          "data": {
            "text/html": [
              "<style>div.sk-top-container {color: black;background-color: white;}div.sk-toggleable {background-color: white;}label.sk-toggleable__label {cursor: pointer;display: block;width: 100%;margin-bottom: 0;padding: 0.2em 0.3em;box-sizing: border-box;text-align: center;}div.sk-toggleable__content {max-height: 0;max-width: 0;overflow: hidden;text-align: left;background-color: #f0f8ff;}div.sk-toggleable__content pre {margin: 0.2em;color: black;border-radius: 0.25em;background-color: #f0f8ff;}input.sk-toggleable__control:checked~div.sk-toggleable__content {max-height: 200px;max-width: 100%;overflow: auto;}div.sk-estimator input.sk-toggleable__control:checked~label.sk-toggleable__label {background-color: #d4ebff;}div.sk-label input.sk-toggleable__control:checked~label.sk-toggleable__label {background-color: #d4ebff;}input.sk-hidden--visually {border: 0;clip: rect(1px 1px 1px 1px);clip: rect(1px, 1px, 1px, 1px);height: 1px;margin: -1px;overflow: hidden;padding: 0;position: absolute;width: 1px;}div.sk-estimator {font-family: monospace;background-color: #f0f8ff;margin: 0.25em 0.25em;border: 1px dotted black;border-radius: 0.25em;box-sizing: border-box;}div.sk-estimator:hover {background-color: #d4ebff;}div.sk-parallel-item::after {content: \"\";width: 100%;border-bottom: 1px solid gray;flex-grow: 1;}div.sk-label:hover label.sk-toggleable__label {background-color: #d4ebff;}div.sk-serial::before {content: \"\";position: absolute;border-left: 1px solid gray;box-sizing: border-box;top: 2em;bottom: 0;left: 50%;}div.sk-serial {display: flex;flex-direction: column;align-items: center;background-color: white;}div.sk-item {z-index: 1;}div.sk-parallel {display: flex;align-items: stretch;justify-content: center;background-color: white;}div.sk-parallel-item {display: flex;flex-direction: column;position: relative;background-color: white;}div.sk-parallel-item:first-child::after {align-self: flex-end;width: 50%;}div.sk-parallel-item:last-child::after {align-self: flex-start;width: 50%;}div.sk-parallel-item:only-child::after {width: 0;}div.sk-dashed-wrapped {border: 1px dashed gray;margin: 0.2em;box-sizing: border-box;padding-bottom: 0.1em;background-color: white;position: relative;}div.sk-label label {font-family: monospace;font-weight: bold;background-color: white;display: inline-block;line-height: 1.2em;}div.sk-label-container {position: relative;z-index: 2;text-align: center;}div.sk-container {display: inline-block;position: relative;}</style><div class=\"sk-top-container\"><div class=\"sk-container\"><div class=\"sk-item sk-dashed-wrapped\"><div class=\"sk-label-container\"><div class=\"sk-label sk-toggleable\"><input class=\"sk-toggleable__control sk-hidden--visually\" id=\"f1ca6331-3e4a-480f-856d-b898ea8f0517\" type=\"checkbox\" ><label class=\"sk-toggleable__label\" for=\"f1ca6331-3e4a-480f-856d-b898ea8f0517\">Pipeline</label><div class=\"sk-toggleable__content\"><pre>Pipeline(memory='/content',\n",
              "         steps=[('preprocessor',\n",
              "                 ColumnTransformer(remainder='passthrough',\n",
              "                                   transformers=[('num',\n",
              "                                                  Pipeline(steps=[('scaler',\n",
              "                                                                   RobustScaler())]),\n",
              "                                                  ['attr6', 'id']),\n",
              "                                                 ('text',\n",
              "                                                  Pipeline(steps=[('tfidf',\n",
              "                                                                   TfidfVectorizer()),\n",
              "                                                                  ('best',\n",
              "                                                                   TruncatedSVD(n_components=5))]),\n",
              "                                                  'title')])),\n",
              "                ('regressor',\n",
              "                 TransformedTargetRegressor(regressor=LassoLarsIC(normalize=False),\n",
              "                                            transformer=QuantileTransformer(output_distribution='normal')))])</pre></div></div></div><div class=\"sk-serial\"><div class=\"sk-item sk-dashed-wrapped\"><div class=\"sk-label-container\"><div class=\"sk-label sk-toggleable\"><input class=\"sk-toggleable__control sk-hidden--visually\" id=\"3ccb2ac2-b1a0-4af4-9283-bddcb789bad4\" type=\"checkbox\" ><label class=\"sk-toggleable__label\" for=\"3ccb2ac2-b1a0-4af4-9283-bddcb789bad4\">preprocessor: ColumnTransformer</label><div class=\"sk-toggleable__content\"><pre>ColumnTransformer(remainder='passthrough',\n",
              "                  transformers=[('num',\n",
              "                                 Pipeline(steps=[('scaler', RobustScaler())]),\n",
              "                                 ['attr6', 'id']),\n",
              "                                ('text',\n",
              "                                 Pipeline(steps=[('tfidf', TfidfVectorizer()),\n",
              "                                                 ('best',\n",
              "                                                  TruncatedSVD(n_components=5))]),\n",
              "                                 'title')])</pre></div></div></div><div class=\"sk-parallel\"><div class=\"sk-parallel-item\"><div class=\"sk-item\"><div class=\"sk-label-container\"><div class=\"sk-label sk-toggleable\"><input class=\"sk-toggleable__control sk-hidden--visually\" id=\"2e7aea57-a3b3-4807-8c84-76b9b7123ec9\" type=\"checkbox\" ><label class=\"sk-toggleable__label\" for=\"2e7aea57-a3b3-4807-8c84-76b9b7123ec9\">num</label><div class=\"sk-toggleable__content\"><pre>['attr6', 'id']</pre></div></div></div><div class=\"sk-serial\"><div class=\"sk-item\"><div class=\"sk-serial\"><div class=\"sk-item\"><div class=\"sk-estimator sk-toggleable\"><input class=\"sk-toggleable__control sk-hidden--visually\" id=\"7141ff82-b3df-4d3c-bbb0-1032dbe1246b\" type=\"checkbox\" ><label class=\"sk-toggleable__label\" for=\"7141ff82-b3df-4d3c-bbb0-1032dbe1246b\">RobustScaler</label><div class=\"sk-toggleable__content\"><pre>RobustScaler()</pre></div></div></div></div></div></div></div></div><div class=\"sk-parallel-item\"><div class=\"sk-item\"><div class=\"sk-label-container\"><div class=\"sk-label sk-toggleable\"><input class=\"sk-toggleable__control sk-hidden--visually\" id=\"ddffa054-4fe2-46dc-906a-4343cf903fa6\" type=\"checkbox\" ><label class=\"sk-toggleable__label\" for=\"ddffa054-4fe2-46dc-906a-4343cf903fa6\">text</label><div class=\"sk-toggleable__content\"><pre>title</pre></div></div></div><div class=\"sk-serial\"><div class=\"sk-item\"><div class=\"sk-serial\"><div class=\"sk-item\"><div class=\"sk-estimator sk-toggleable\"><input class=\"sk-toggleable__control sk-hidden--visually\" id=\"9916a9ca-8bcb-4a87-82a5-257d6a908d19\" type=\"checkbox\" ><label class=\"sk-toggleable__label\" for=\"9916a9ca-8bcb-4a87-82a5-257d6a908d19\">TfidfVectorizer</label><div class=\"sk-toggleable__content\"><pre>TfidfVectorizer()</pre></div></div></div><div class=\"sk-item\"><div class=\"sk-estimator sk-toggleable\"><input class=\"sk-toggleable__control sk-hidden--visually\" id=\"425ebd06-785d-4721-b542-7508cb7991da\" type=\"checkbox\" ><label class=\"sk-toggleable__label\" for=\"425ebd06-785d-4721-b542-7508cb7991da\">TruncatedSVD</label><div class=\"sk-toggleable__content\"><pre>TruncatedSVD(n_components=5)</pre></div></div></div></div></div></div></div></div></div></div><div class=\"sk-item sk-dashed-wrapped\"><div class=\"sk-label-container\"><div class=\"sk-label sk-toggleable\"><input class=\"sk-toggleable__control sk-hidden--visually\" id=\"54198f3f-6ab5-4881-ac35-e13cd868536b\" type=\"checkbox\" ><label class=\"sk-toggleable__label\" for=\"54198f3f-6ab5-4881-ac35-e13cd868536b\">regressor: TransformedTargetRegressor</label><div class=\"sk-toggleable__content\"><pre>TransformedTargetRegressor(regressor=LassoLarsIC(normalize=False),\n",
              "                           transformer=QuantileTransformer(output_distribution='normal'))</pre></div></div></div><div class=\"sk-parallel\"><div class=\"sk-parallel-item\"><div class=\"sk-item\"><div class=\"sk-serial\"><div class=\"sk-item\"><div class=\"sk-estimator sk-toggleable\"><input class=\"sk-toggleable__control sk-hidden--visually\" id=\"ae1cc4b9-7e4d-4472-a3bf-81297ccecaf7\" type=\"checkbox\" ><label class=\"sk-toggleable__label\" for=\"ae1cc4b9-7e4d-4472-a3bf-81297ccecaf7\">LassoLarsIC</label><div class=\"sk-toggleable__content\"><pre>LassoLarsIC(normalize=False)</pre></div></div></div></div></div></div><div class=\"sk-parallel-item\"><div class=\"sk-item\"><div class=\"sk-serial\"><div class=\"sk-item\"><div class=\"sk-estimator sk-toggleable\"><input class=\"sk-toggleable__control sk-hidden--visually\" id=\"9c44432b-07ae-49ef-8106-20bd135c8775\" type=\"checkbox\" ><label class=\"sk-toggleable__label\" for=\"9c44432b-07ae-49ef-8106-20bd135c8775\">QuantileTransformer</label><div class=\"sk-toggleable__content\"><pre>QuantileTransformer(output_distribution='normal')</pre></div></div></div></div></div></div></div></div></div></div></div></div>"
            ],
            "text/plain": [
              "Pipeline(memory='/content',\n",
              "         steps=[('preprocessor',\n",
              "                 ColumnTransformer(remainder='passthrough',\n",
              "                                   transformers=[('num',\n",
              "                                                  Pipeline(steps=[('scaler',\n",
              "                                                                   RobustScaler())]),\n",
              "                                                  ['attr6', 'id']),\n",
              "                                                 ('text',\n",
              "                                                  Pipeline(steps=[('tfidf',\n",
              "                                                                   TfidfVectorizer()),\n",
              "                                                                  ('best',\n",
              "                                                                   TruncatedSVD(n_components=5))]),\n",
              "                                                  'title')])),\n",
              "                ('regressor',\n",
              "                 TransformedTargetRegressor(regressor=LassoLarsIC(normalize=False),\n",
              "                                            transformer=QuantileTransformer(output_distribution='normal')))])"
            ]
          },
          "metadata": {
            "tags": []
          },
          "execution_count": 268
        }
      ]
    },
    {
      "cell_type": "markdown",
      "metadata": {
        "id": "YgQA2n25LSOv"
      },
      "source": [
        "## Model Structure"
      ]
    },
    {
      "cell_type": "code",
      "metadata": {
        "id": "30LeUjTnLUKh",
        "outputId": "59a611f4-b554-4204-bfcd-2100e111ab8b",
        "colab": {
          "base_uri": "https://localhost:8080/",
          "height": 227
        }
      },
      "source": [
        "from sklearn import set_config\n",
        "set_config(display='diagram')\n",
        "model"
      ],
      "execution_count": null,
      "outputs": [
        {
          "output_type": "execute_result",
          "data": {
            "text/html": [
              "<style>div.sk-top-container {color: black;background-color: white;}div.sk-toggleable {background-color: white;}label.sk-toggleable__label {cursor: pointer;display: block;width: 100%;margin-bottom: 0;padding: 0.2em 0.3em;box-sizing: border-box;text-align: center;}div.sk-toggleable__content {max-height: 0;max-width: 0;overflow: hidden;text-align: left;background-color: #f0f8ff;}div.sk-toggleable__content pre {margin: 0.2em;color: black;border-radius: 0.25em;background-color: #f0f8ff;}input.sk-toggleable__control:checked~div.sk-toggleable__content {max-height: 200px;max-width: 100%;overflow: auto;}div.sk-estimator input.sk-toggleable__control:checked~label.sk-toggleable__label {background-color: #d4ebff;}div.sk-label input.sk-toggleable__control:checked~label.sk-toggleable__label {background-color: #d4ebff;}input.sk-hidden--visually {border: 0;clip: rect(1px 1px 1px 1px);clip: rect(1px, 1px, 1px, 1px);height: 1px;margin: -1px;overflow: hidden;padding: 0;position: absolute;width: 1px;}div.sk-estimator {font-family: monospace;background-color: #f0f8ff;margin: 0.25em 0.25em;border: 1px dotted black;border-radius: 0.25em;box-sizing: border-box;}div.sk-estimator:hover {background-color: #d4ebff;}div.sk-parallel-item::after {content: \"\";width: 100%;border-bottom: 1px solid gray;flex-grow: 1;}div.sk-label:hover label.sk-toggleable__label {background-color: #d4ebff;}div.sk-serial::before {content: \"\";position: absolute;border-left: 1px solid gray;box-sizing: border-box;top: 2em;bottom: 0;left: 50%;}div.sk-serial {display: flex;flex-direction: column;align-items: center;background-color: white;}div.sk-item {z-index: 1;}div.sk-parallel {display: flex;align-items: stretch;justify-content: center;background-color: white;}div.sk-parallel-item {display: flex;flex-direction: column;position: relative;background-color: white;}div.sk-parallel-item:first-child::after {align-self: flex-end;width: 50%;}div.sk-parallel-item:last-child::after {align-self: flex-start;width: 50%;}div.sk-parallel-item:only-child::after {width: 0;}div.sk-dashed-wrapped {border: 1px dashed gray;margin: 0.2em;box-sizing: border-box;padding-bottom: 0.1em;background-color: white;position: relative;}div.sk-label label {font-family: monospace;font-weight: bold;background-color: white;display: inline-block;line-height: 1.2em;}div.sk-label-container {position: relative;z-index: 2;text-align: center;}div.sk-container {display: inline-block;position: relative;}</style><div class=\"sk-top-container\"><div class=\"sk-container\"><div class=\"sk-item sk-dashed-wrapped\"><div class=\"sk-label-container\"><div class=\"sk-label sk-toggleable\"><input class=\"sk-toggleable__control sk-hidden--visually\" id=\"f27f2d70-6880-470c-b86e-33ca0b3b3ee7\" type=\"checkbox\" ><label class=\"sk-toggleable__label\" for=\"f27f2d70-6880-470c-b86e-33ca0b3b3ee7\">Pipeline</label><div class=\"sk-toggleable__content\"><pre>Pipeline(memory='/content',\n",
              "         steps=[('preprocessor',\n",
              "                 ColumnTransformer(remainder='passthrough',\n",
              "                                   transformers=[('num',\n",
              "                                                  Pipeline(steps=[('scaler',\n",
              "                                                                   RobustScaler())]),\n",
              "                                                  ['attr6', 'id']),\n",
              "                                                 ('text',\n",
              "                                                  Pipeline(steps=[('tfidf',\n",
              "                                                                   TfidfVectorizer()),\n",
              "                                                                  ('best',\n",
              "                                                                   TruncatedSVD(n_components=5))]),\n",
              "                                                  'title')])),\n",
              "                ('regressor',\n",
              "                 TransformedTargetRegressor(regressor=SGDRegressor(max_iter=2000),\n",
              "                                            transformer=QuantileTransformer(output_distribution='normal')))])</pre></div></div></div><div class=\"sk-serial\"><div class=\"sk-item sk-dashed-wrapped\"><div class=\"sk-label-container\"><div class=\"sk-label sk-toggleable\"><input class=\"sk-toggleable__control sk-hidden--visually\" id=\"2c9654a3-4981-485e-a456-d447ddf10ddd\" type=\"checkbox\" ><label class=\"sk-toggleable__label\" for=\"2c9654a3-4981-485e-a456-d447ddf10ddd\">preprocessor: ColumnTransformer</label><div class=\"sk-toggleable__content\"><pre>ColumnTransformer(remainder='passthrough',\n",
              "                  transformers=[('num',\n",
              "                                 Pipeline(steps=[('scaler', RobustScaler())]),\n",
              "                                 ['attr6', 'id']),\n",
              "                                ('text',\n",
              "                                 Pipeline(steps=[('tfidf', TfidfVectorizer()),\n",
              "                                                 ('best',\n",
              "                                                  TruncatedSVD(n_components=5))]),\n",
              "                                 'title')])</pre></div></div></div><div class=\"sk-parallel\"><div class=\"sk-parallel-item\"><div class=\"sk-item\"><div class=\"sk-label-container\"><div class=\"sk-label sk-toggleable\"><input class=\"sk-toggleable__control sk-hidden--visually\" id=\"d1d22045-9e85-461a-8fc3-640952816c7f\" type=\"checkbox\" ><label class=\"sk-toggleable__label\" for=\"d1d22045-9e85-461a-8fc3-640952816c7f\">num</label><div class=\"sk-toggleable__content\"><pre>['attr6', 'id']</pre></div></div></div><div class=\"sk-serial\"><div class=\"sk-item\"><div class=\"sk-serial\"><div class=\"sk-item\"><div class=\"sk-estimator sk-toggleable\"><input class=\"sk-toggleable__control sk-hidden--visually\" id=\"e581503a-008e-4e36-a384-4c4a4fa9f9a9\" type=\"checkbox\" ><label class=\"sk-toggleable__label\" for=\"e581503a-008e-4e36-a384-4c4a4fa9f9a9\">RobustScaler</label><div class=\"sk-toggleable__content\"><pre>RobustScaler()</pre></div></div></div></div></div></div></div></div><div class=\"sk-parallel-item\"><div class=\"sk-item\"><div class=\"sk-label-container\"><div class=\"sk-label sk-toggleable\"><input class=\"sk-toggleable__control sk-hidden--visually\" id=\"903b4392-c3d3-4fd4-aeca-0e802ab01ed0\" type=\"checkbox\" ><label class=\"sk-toggleable__label\" for=\"903b4392-c3d3-4fd4-aeca-0e802ab01ed0\">text</label><div class=\"sk-toggleable__content\"><pre>title</pre></div></div></div><div class=\"sk-serial\"><div class=\"sk-item\"><div class=\"sk-serial\"><div class=\"sk-item\"><div class=\"sk-estimator sk-toggleable\"><input class=\"sk-toggleable__control sk-hidden--visually\" id=\"45e24aa8-17ef-49d0-bf8c-afe0f5d187c3\" type=\"checkbox\" ><label class=\"sk-toggleable__label\" for=\"45e24aa8-17ef-49d0-bf8c-afe0f5d187c3\">TfidfVectorizer</label><div class=\"sk-toggleable__content\"><pre>TfidfVectorizer()</pre></div></div></div><div class=\"sk-item\"><div class=\"sk-estimator sk-toggleable\"><input class=\"sk-toggleable__control sk-hidden--visually\" id=\"c4f569ca-f5c0-49e5-a7c5-87b95fce8e4b\" type=\"checkbox\" ><label class=\"sk-toggleable__label\" for=\"c4f569ca-f5c0-49e5-a7c5-87b95fce8e4b\">TruncatedSVD</label><div class=\"sk-toggleable__content\"><pre>TruncatedSVD(n_components=5)</pre></div></div></div></div></div></div></div></div></div></div><div class=\"sk-item sk-dashed-wrapped\"><div class=\"sk-label-container\"><div class=\"sk-label sk-toggleable\"><input class=\"sk-toggleable__control sk-hidden--visually\" id=\"a485b84d-bc76-4844-a4df-bf8e5dc553a0\" type=\"checkbox\" ><label class=\"sk-toggleable__label\" for=\"a485b84d-bc76-4844-a4df-bf8e5dc553a0\">regressor: TransformedTargetRegressor</label><div class=\"sk-toggleable__content\"><pre>TransformedTargetRegressor(regressor=SGDRegressor(max_iter=2000),\n",
              "                           transformer=QuantileTransformer(output_distribution='normal'))</pre></div></div></div><div class=\"sk-parallel\"><div class=\"sk-parallel-item\"><div class=\"sk-item\"><div class=\"sk-serial\"><div class=\"sk-item\"><div class=\"sk-estimator sk-toggleable\"><input class=\"sk-toggleable__control sk-hidden--visually\" id=\"b62ced6c-5f9d-43a1-b43f-87f01e457c33\" type=\"checkbox\" ><label class=\"sk-toggleable__label\" for=\"b62ced6c-5f9d-43a1-b43f-87f01e457c33\">SGDRegressor</label><div class=\"sk-toggleable__content\"><pre>SGDRegressor(max_iter=2000)</pre></div></div></div></div></div></div><div class=\"sk-parallel-item\"><div class=\"sk-item\"><div class=\"sk-serial\"><div class=\"sk-item\"><div class=\"sk-estimator sk-toggleable\"><input class=\"sk-toggleable__control sk-hidden--visually\" id=\"8ef7bfe6-7001-457c-8468-36389502b34b\" type=\"checkbox\" ><label class=\"sk-toggleable__label\" for=\"8ef7bfe6-7001-457c-8468-36389502b34b\">QuantileTransformer</label><div class=\"sk-toggleable__content\"><pre>QuantileTransformer(output_distribution='normal')</pre></div></div></div></div></div></div></div></div></div></div></div></div>"
            ],
            "text/plain": [
              "Pipeline(memory='/content',\n",
              "         steps=[('preprocessor',\n",
              "                 ColumnTransformer(remainder='passthrough',\n",
              "                                   transformers=[('num',\n",
              "                                                  Pipeline(steps=[('scaler',\n",
              "                                                                   RobustScaler())]),\n",
              "                                                  ['attr6', 'id']),\n",
              "                                                 ('text',\n",
              "                                                  Pipeline(steps=[('tfidf',\n",
              "                                                                   TfidfVectorizer()),\n",
              "                                                                  ('best',\n",
              "                                                                   TruncatedSVD(n_components=5))]),\n",
              "                                                  'title')])),\n",
              "                ('regressor',\n",
              "                 TransformedTargetRegressor(regressor=SGDRegressor(max_iter=2000),\n",
              "                                            transformer=QuantileTransformer(output_distribution='normal')))])"
            ]
          },
          "metadata": {
            "tags": []
          },
          "execution_count": 220
        }
      ]
    },
    {
      "cell_type": "markdown",
      "metadata": {
        "id": "NzNc6u1mGSty"
      },
      "source": [
        "Try predicting on train and test data to evaluate fit"
      ]
    },
    {
      "cell_type": "markdown",
      "metadata": {
        "id": "WE5n93pdIzXm"
      },
      "source": [
        "## Evaluation"
      ]
    },
    {
      "cell_type": "code",
      "metadata": {
        "id": "GHRYdwDeHPqC",
        "outputId": "da3a12ba-59ca-4b28-fab3-095311b8616e",
        "colab": {
          "base_uri": "https://localhost:8080/",
          "height": 179
        }
      },
      "source": [
        "# We will evaluate performance using the mean squared error and\n",
        "# the root of the mean squared error and r2\n",
        "\n",
        "# make predictions for train set\n",
        "pred = model.predict(X_train)\n",
        "\n",
        "# determine mse and rmse\n",
        "print('train mse: {}'.format(int(\n",
        "    mean_squared_error(y_train, pred))))\n",
        "print('train rmse: {}'.format(int(\n",
        "    sqrt(mean_squared_error(y_train, pred)))))\n",
        "print('train r2: {}'.format(\n",
        "    r2_score(y_train, pred)))\n",
        "print()\n",
        "\n",
        "# make predictions for test set\n",
        "pred = model.predict(X_test)\n",
        "\n",
        "# determine mse and rmse\n",
        "print('test mse: {}'.format(int(\n",
        "    mean_squared_error(y_test, pred))))\n",
        "print('test rmse: {}'.format(int(\n",
        "    sqrt(mean_squared_error(y_test, pred)))))\n",
        "print('test r2: {}'.format(\n",
        "    r2_score(y_test, pred)))\n",
        "print()\n",
        "\n",
        "print('Median listing price: ', int(y_train.median()))"
      ],
      "execution_count": null,
      "outputs": [
        {
          "output_type": "stream",
          "text": [
            "train mse: 2384016\n",
            "train rmse: 1544\n",
            "train r2: 0.012738801579374459\n",
            "\n",
            "test mse: 1420721\n",
            "test rmse: 1191\n",
            "test r2: -0.005001811084259344\n",
            "\n",
            "Median listing price:  60\n"
          ],
          "name": "stdout"
        }
      ]
    },
    {
      "cell_type": "code",
      "metadata": {
        "id": "PLZMC58AQcrC",
        "outputId": "c7481516-2142-426f-b1c8-645c8fbd5b93",
        "colab": {
          "base_uri": "https://localhost:8080/",
          "height": 143
        }
      },
      "source": [
        "# We will evaluate performance using the median abs error and\n",
        "# the root of the mean squared error and r2\n",
        "\n",
        "# make predictions for train set\n",
        "pred = model.predict(X_train)\n",
        "\n",
        "# determine mae\n",
        "print('train mae: {}'.format(int(\n",
        "    median_absolute_error(y_train, pred))))\n",
        "\n",
        "print('train r2: {}'.format(\n",
        "    r2_score(y_train, pred)))\n",
        "print()\n",
        "\n",
        "# make predictions for test set\n",
        "pred = model.predict(X_test)\n",
        "\n",
        "# determine mae\n",
        "print('test mae: {}'.format(int(\n",
        "    median_absolute_error(y_test, pred))))\n",
        "print('test r2: {}'.format(\n",
        "    r2_score(y_test, pred)))\n",
        "print()\n",
        "\n",
        "print('Median listing price: ', int(y_train.median()))"
      ],
      "execution_count": null,
      "outputs": [
        {
          "output_type": "stream",
          "text": [
            "train mae: 37\n",
            "train r2: 0.012738801579374459\n",
            "\n",
            "test mae: 37\n",
            "test r2: -0.005001811084259344\n",
            "\n",
            "Median listing price:  60\n"
          ],
          "name": "stdout"
        }
      ]
    },
    {
      "cell_type": "code",
      "metadata": {
        "id": "6px4nWYOGWqS",
        "outputId": "8182b684-8ad2-432a-e0bd-5d3a53faa7fc",
        "colab": {
          "base_uri": "https://localhost:8080/",
          "height": 313
        }
      },
      "source": [
        "# let's evaluate our predictions respect to the sold price\n",
        "plt.scatter(y_test, model.predict(X_test))\n",
        "plt.xlabel('True Listing Price')\n",
        "plt.ylabel('Predicted Listing Price')\n",
        "plt.title('Evaluation of Lasso Predictions')"
      ],
      "execution_count": null,
      "outputs": [
        {
          "output_type": "execute_result",
          "data": {
            "text/plain": [
              "Text(0.5, 1.0, 'Evaluation of Lasso Predictions')"
            ]
          },
          "metadata": {
            "tags": []
          },
          "execution_count": 280
        },
        {
          "output_type": "display_data",
          "data": {
            "image/png": "[encoded data removed]",
            "text/plain": [
              "<Figure size 432x288 with 1 Axes>"
            ]
          },
          "metadata": {
            "tags": [],
            "needs_background": "light"
          }
        }
      ]
    },
    {
      "cell_type": "code",
      "metadata": {
        "id": "13buCfnqXRqj",
        "outputId": "ad58f433-bbda-4701-d05b-df2f8a36b5bb",
        "colab": {
          "base_uri": "https://localhost:8080/",
          "height": 313
        }
      },
      "source": [
        "# let's evaluate our predictions respect to the sold price\n",
        "plt.scatter(range(0, len(y_test)), y_test, color='red')\n",
        "plt.scatter(range(0, len(X_test)), model.predict(X_test), color='blue')\n",
        "plt.xlabel('record number')\n",
        "plt.ylabel('Actual and Predicted Listing Price')\n",
        "plt.title('Evaluation of Lasso Predictions')"
      ],
      "execution_count": null,
      "outputs": [
        {
          "output_type": "execute_result",
          "data": {
            "text/plain": [
              "Text(0.5, 1.0, 'Evaluation of Lasso Predictions')"
            ]
          },
          "metadata": {
            "tags": []
          },
          "execution_count": 281
        },
        {
          "output_type": "display_data",
          "data": {
            "image/png": "[encoded data removed]",
            "text/plain": [
              "<Figure size 432x288 with 1 Axes>"
            ]
          },
          "metadata": {
            "tags": [],
            "needs_background": "light"
          }
        }
      ]
    },
    {
      "cell_type": "markdown",
      "metadata": {
        "id": "1l3v58V7I2KA"
      },
      "source": [
        "### Error distribution"
      ]
    },
    {
      "cell_type": "code",
      "metadata": {
        "id": "K4lsMYhhH_re",
        "outputId": "835e35b4-212c-41c4-ce6a-739bc2e54447",
        "colab": {
          "base_uri": "https://localhost:8080/",
          "height": 283
        }
      },
      "source": [
        "# let's evaluate the distribution of the errors: \n",
        "\n",
        "errors = y_test - model.predict(X_test)\n",
        "errors.hist(bins=30)"
      ],
      "execution_count": null,
      "outputs": [
        {
          "output_type": "execute_result",
          "data": {
            "text/plain": [
              "<matplotlib.axes._subplots.AxesSubplot at 0x7f3b29ea7cf8>"
            ]
          },
          "metadata": {
            "tags": []
          },
          "execution_count": 282
        },
        {
          "output_type": "display_data",
          "data": {
            "image/png": "[encoded data removed]",
            "text/plain": [
              "<Figure size 432x288 with 1 Axes>"
            ]
          },
          "metadata": {
            "tags": [],
            "needs_background": "light"
          }
        }
      ]
    },
    {
      "cell_type": "markdown",
      "metadata": {
        "id": "4WCwhOf1JKxP"
      },
      "source": [
        "# Environment details"
      ]
    },
    {
      "cell_type": "code",
      "metadata": {
        "id": "r2TCxKgkJNKi"
      },
      "source": [
        "!pip list | grep -E 'scikit-learn|pandas|numpy|matplotlib' > requirements.txt"
      ],
      "execution_count": null,
      "outputs": []
    },
    {
      "cell_type": "markdown",
      "metadata": {
        "id": "NWs2y214WYxe"
      },
      "source": [
        "# Model and Components persistence"
      ]
    },
    {
      "cell_type": "code",
      "metadata": {
        "id": "l1ptuUcyWdou",
        "outputId": "a9d2c480-fbec-4d32-a436-0f1e2fd98f2e",
        "colab": {
          "base_uri": "https://localhost:8080/",
          "height": 35
        }
      },
      "source": [
        "!mkdir /content/drive/My\\ Drive/poshmark_files"
      ],
      "execution_count": null,
      "outputs": [
        {
          "output_type": "stream",
          "text": [
            "mkdir: cannot create directory ‘/content/drive/My Drive/poshmark_files’: File exists\n"
          ],
          "name": "stdout"
        }
      ]
    },
    {
      "cell_type": "code",
      "metadata": {
        "id": "waJmbq0yW1gG"
      },
      "source": [
        "!cp /content/*.json /content/drive/My\\ Drive/poshmark_files"
      ],
      "execution_count": null,
      "outputs": []
    },
    {
      "cell_type": "code",
      "metadata": {
        "id": "Q8YSn4lKbWvf"
      },
      "source": [
        "!cp /content/requirements.txt /content/drive/My\\ Drive/poshmark_files"
      ],
      "execution_count": null,
      "outputs": []
    },
    {
      "cell_type": "code",
      "metadata": {
        "id": "7P9dIVkb8mHl",
        "outputId": "84c9a87c-ec51-4281-ea9b-9a81cd73fcbd",
        "colab": {
          "base_uri": "https://localhost:8080/",
          "height": 35
        }
      },
      "source": [
        "dump(model, os.path.join(file_path, 'model_pipeline.joblib')) "
      ],
      "execution_count": null,
      "outputs": [
        {
          "output_type": "execute_result",
          "data": {
            "text/plain": [
              "['/content/drive/My Drive/poshmark_files/model_pipeline.joblib']"
            ]
          },
          "metadata": {
            "tags": []
          },
          "execution_count": 286
        }
      ]
    },
    {
      "cell_type": "code",
      "metadata": {
        "id": "liHHZJXoZRoD"
      },
      "source": [
        "X_train.to_csv(os.path.join(file_path, 'train.csv'))\n",
        "X_test.to_csv(os.path.join(file_path, 'test.csv'))\n",
        "\n",
        "np.savez_compressed(os.path.join(file_path, 'targets.npz'), dict(train_targets=y_train, test_target=y_test))"
      ],
      "execution_count": null,
      "outputs": []
    }
  ]
}